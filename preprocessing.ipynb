{
 "cells": [
  {
   "cell_type": "code",
   "execution_count": 9,
   "metadata": {},
   "outputs": [],
   "source": [
    "import re, string, unicodedata\n",
    "import nltk\n",
    "from nltk import word_tokenize, sent_tokenize\n",
    "from nltk.corpus import stopwords"
   ]
  },
  {
   "cell_type": "code",
   "execution_count": 20,
   "metadata": {},
   "outputs": [],
   "source": [
    "#preprocessing\n",
    "\n",
    "# def removeStopword(str):\n",
    "#     stop_words = set(stopwords.words('english'))\n",
    "#     word_tokens = word_tokenize(str)\n",
    "#     filtered_sentence = [w for w in word_tokens if not w in stop_words]\n",
    "#     return ' '.join(filtered_sentence)\n",
    "\n",
    "def removeStopword(str):\n",
    "    stop_words = set(stopwords.words('english'))\n",
    "    word_tokens = word_tokenize(str) \n",
    "    filtered_sentence = [w for w in word_tokens if not w in stop_words]  \n",
    "    filtered_sentence = [] \n",
    "    \n",
    "    for w in word_tokens: \n",
    "        if w not in stop_words: \n",
    "            filtered_sentence.append(w)\n",
    "    return ' '.join(filtered_sentence)\n",
    "\n",
    "def removeSentence(str): \n",
    "    word = str.split()\n",
    "    wordCount = len(word)\n",
    "    if(wordCount<=1):\n",
    "        str = ''\n",
    "    \n",
    "    return str\n",
    "\n",
    "def clean_data(str):\n",
    "    str = re.sub('https?://[A-Za-z0-9./]+','',str)\n",
    "    str = re.sub(\"[^a-zA-Z]\", \" \", str)\n",
    "    str = re.sub(r'\\b\\w{1,3}\\b', '', str)\n",
    "    str = str.lower()\n",
    "    \n",
    "    return str\n",
    "\n",
    "\n",
    "def preprocessing(str):\n",
    "    str = removeSentence(str)\n",
    "    str = clean_data(str)\n",
    "    str = removeStopword(str)\n",
    "    \n",
    "    return str"
   ]
  },
  {
   "cell_type": "code",
   "execution_count": 21,
   "metadata": {},
   "outputs": [],
   "source": [
    "#do preprocessing\n",
    "import pandas as pd\n",
    "import xlsxwriter\n",
    "\n",
    "fo = pd.read_excel('dataset-tm.xlsx', sheet_name='data') #read excel file\n",
    "txt = fo['Description']\n",
    "workbook = xlsxwriter.Workbook('dataclean.xlsx') #file excel baru/data bersih ini akan dipanggil di topic modelling\n",
    "worksheet = workbook.add_worksheet() # menulis/mengisi file baru tersebut\n",
    "\n",
    "row = 0\n",
    "col = 0\n",
    "\n",
    "rowHeaders = ['text']\n",
    "worksheet.write_row(row, col,  tuple(rowHeaders))\n",
    "        \n",
    "for t in txt:\n",
    "    new_txt = preprocessing(t)\n",
    "    rowValues = [new_txt]\n",
    "    row += 1\n",
    "    worksheet.write_row(row, col, tuple(rowValues))\n",
    "    \n",
    "workbook.close()"
   ]
  },
  {
   "cell_type": "code",
   "execution_count": null,
   "metadata": {},
   "outputs": [],
   "source": []
  }
 ],
 "metadata": {
  "kernelspec": {
   "display_name": "Python 3",
   "language": "python",
   "name": "python3"
  },
  "language_info": {
   "codemirror_mode": {
    "name": "ipython",
    "version": 3
   },
   "file_extension": ".py",
   "mimetype": "text/x-python",
   "name": "python",
   "nbconvert_exporter": "python",
   "pygments_lexer": "ipython3",
   "version": "3.6.5"
  }
 },
 "nbformat": 4,
 "nbformat_minor": 2
}
